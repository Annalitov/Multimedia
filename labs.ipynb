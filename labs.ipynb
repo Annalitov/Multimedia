{
 "cells": [
  {
   "cell_type": "markdown",
   "metadata": {},
   "source": [
    "## Выбор датасета и метрик"
   ]
  },
  {
   "cell_type": "markdown",
   "metadata": {},
   "source": [
    "Я выбрала датасет diamond online marketplace, который содержит различные характеристики для 6400 дагоценных камней.  \n",
    "Характеристики:  \n",
    "* Shape - форма огранки камня  \n",
    "* Cut - качество огранки\n",
    "* Color - цвет камня\n",
    "* Clarity - чистота камня\n",
    "* Carat Weight - вес камня \n",
    "* Length/Width Ratio — Соотношение длины к ширине камня  \n",
    "* Depth % — Глубина камня в процентах от его ширины  \n",
    "* Table % — Ширина таблицы (верхней плоскости камня) в процентах от ширины  \n",
    "* Polish — Качество полировки  \n",
    "* Symmetry — Симметрия огранки  \n",
    "* Girdle — Толщина рундиста  \n",
    "* Culet — Размер калетты  \n",
    "* Length — Длина камня в миллиметрах  \n",
    "* Width — Ширина камня в миллиметрах  \n",
    "* Height — Высота камня в миллиметрах  \n",
    "* Price — Цена камня в условных единицах  \n",
    "* Type — Тип камня( lab grown or natural)\n",
    "* Fluorescence — Наличие и интенсивность флуоресценции  \n"
   ]
  },
  {
   "cell_type": "markdown",
   "metadata": {},
   "source": [
    "## KNN алгоритм"
   ]
  },
  {
   "cell_type": "markdown",
   "metadata": {},
   "source": [
    "Загружаем необходимые библиотеки"
   ]
  },
  {
   "cell_type": "code",
   "execution_count": 90,
   "metadata": {},
   "outputs": [],
   "source": [
    "from collections import Counter\n",
    "import numpy as np\n",
    "import pandas as pd\n",
    "from sklearn.model_selection import train_test_split, GridSearchCV\n",
    "from sklearn.preprocessing import StandardScaler, OneHotEncoder, LabelEncoder\n",
    "from sklearn.compose import ColumnTransformer\n",
    "from sklearn.pipeline import Pipeline\n",
    "from sklearn.impute import SimpleImputer\n",
    "from sklearn.neighbors import KNeighborsClassifier\n",
    "from sklearn.metrics import accuracy_score, f1_score, classification_report\n",
    "from imblearn.over_sampling import SMOTE"
   ]
  },
  {
   "cell_type": "markdown",
   "metadata": {},
   "source": [
    "### KNN классификатор"
   ]
  },
  {
   "cell_type": "markdown",
   "metadata": {},
   "source": [
    "Постановка задачи: Классификация по типу камня.  \n",
    "Необходимо научится предсказывать является ли камень лабораторно выращенным или натуральным на основе характеристик. Поскольку на рынке камней существует большая разница в восприятии и цене искусственных и натуральных камней. Многие недобросовестные продавцы пытаются \"втюхать\" выращенный в лаборатории камень по цене натурального. Модель должна решать проблему мошенничества и подтвепжать подлинность происхождения камней."
   ]
  },
  {
   "cell_type": "markdown",
   "metadata": {},
   "source": [
    "Загружаем данные датасета"
   ]
  },
  {
   "cell_type": "code",
   "execution_count": 91,
   "metadata": {},
   "outputs": [
    {
     "data": {
      "text/html": [
       "<div>\n",
       "<style scoped>\n",
       "    .dataframe tbody tr th:only-of-type {\n",
       "        vertical-align: middle;\n",
       "    }\n",
       "\n",
       "    .dataframe tbody tr th {\n",
       "        vertical-align: top;\n",
       "    }\n",
       "\n",
       "    .dataframe thead th {\n",
       "        text-align: right;\n",
       "    }\n",
       "</style>\n",
       "<table border=\"1\" class=\"dataframe\">\n",
       "  <thead>\n",
       "    <tr style=\"text-align: right;\">\n",
       "      <th></th>\n",
       "      <th>Cut</th>\n",
       "      <th>Color</th>\n",
       "      <th>Clarity</th>\n",
       "      <th>Carat_Weight</th>\n",
       "      <th>Length_Width_Ratio</th>\n",
       "      <th>Depth</th>\n",
       "      <th>Table</th>\n",
       "      <th>Polish</th>\n",
       "      <th>Symmetry</th>\n",
       "      <th>Type</th>\n",
       "      <th>Fluorescence</th>\n",
       "    </tr>\n",
       "  </thead>\n",
       "  <tbody>\n",
       "    <tr>\n",
       "      <th>0</th>\n",
       "      <td>Ideal</td>\n",
       "      <td>F</td>\n",
       "      <td>VVS2</td>\n",
       "      <td>1.84</td>\n",
       "      <td>1.02</td>\n",
       "      <td>65.8</td>\n",
       "      <td>59.0</td>\n",
       "      <td>Excellent</td>\n",
       "      <td>Very Good</td>\n",
       "      <td>GIA Lab-Grown</td>\n",
       "      <td>NaN</td>\n",
       "    </tr>\n",
       "    <tr>\n",
       "      <th>1</th>\n",
       "      <td>NaN</td>\n",
       "      <td>E</td>\n",
       "      <td>VS1</td>\n",
       "      <td>1.20</td>\n",
       "      <td>1.65</td>\n",
       "      <td>62.5</td>\n",
       "      <td>58.0</td>\n",
       "      <td>Very Good</td>\n",
       "      <td>Very Good</td>\n",
       "      <td>GIA Lab-Grown</td>\n",
       "      <td>NaN</td>\n",
       "    </tr>\n",
       "    <tr>\n",
       "      <th>2</th>\n",
       "      <td>NaN</td>\n",
       "      <td>E</td>\n",
       "      <td>VS1</td>\n",
       "      <td>1.19</td>\n",
       "      <td>1.41</td>\n",
       "      <td>63.1</td>\n",
       "      <td>63.0</td>\n",
       "      <td>Very Good</td>\n",
       "      <td>Very Good</td>\n",
       "      <td>GIA Lab-Grown</td>\n",
       "      <td>NaN</td>\n",
       "    </tr>\n",
       "    <tr>\n",
       "      <th>3</th>\n",
       "      <td>NaN</td>\n",
       "      <td>D</td>\n",
       "      <td>IF</td>\n",
       "      <td>1.00</td>\n",
       "      <td>1.18</td>\n",
       "      <td>61.7</td>\n",
       "      <td>58.0</td>\n",
       "      <td>Excellent</td>\n",
       "      <td>Excellent</td>\n",
       "      <td>GIA</td>\n",
       "      <td>Faint</td>\n",
       "    </tr>\n",
       "    <tr>\n",
       "      <th>4</th>\n",
       "      <td>NaN</td>\n",
       "      <td>H</td>\n",
       "      <td>VS1</td>\n",
       "      <td>1.01</td>\n",
       "      <td>1.35</td>\n",
       "      <td>69.4</td>\n",
       "      <td>66.0</td>\n",
       "      <td>Excellent</td>\n",
       "      <td>Very Good</td>\n",
       "      <td>GIA</td>\n",
       "      <td>NaN</td>\n",
       "    </tr>\n",
       "  </tbody>\n",
       "</table>\n",
       "</div>"
      ],
      "text/plain": [
       "     Cut Color Clarity  Carat_Weight  Length_Width_Ratio  Depth  Table  \\\n",
       "0  Ideal     F    VVS2          1.84                1.02   65.8   59.0   \n",
       "1    NaN     E     VS1          1.20                1.65   62.5   58.0   \n",
       "2    NaN     E     VS1          1.19                1.41   63.1   63.0   \n",
       "3    NaN     D      IF          1.00                1.18   61.7   58.0   \n",
       "4    NaN     H     VS1          1.01                1.35   69.4   66.0   \n",
       "\n",
       "      Polish   Symmetry           Type Fluorescence  \n",
       "0  Excellent  Very Good  GIA Lab-Grown          NaN  \n",
       "1  Very Good  Very Good  GIA Lab-Grown          NaN  \n",
       "2  Very Good  Very Good  GIA Lab-Grown          NaN  \n",
       "3  Excellent  Excellent            GIA        Faint  \n",
       "4  Excellent  Very Good            GIA          NaN  "
      ]
     },
     "execution_count": 91,
     "metadata": {},
     "output_type": "execute_result"
    }
   ],
   "source": [
    "# Чтение данных\n",
    "data = pd.read_csv('diamonds.csv')\n",
    "\n",
    "# Переименование колонок\n",
    "data.columns = [\n",
    "    \"Shape\", \"Cut\", \"Color\", \"Clarity\",\n",
    "    \"Carat_Weight\", \"Length_Width_Ratio\", \"Depth\",\n",
    "    \"Table\", \"Polish\", \"Symmetry\", \"Girdle\",\n",
    "    \"Culet\", \"Length\", \"Width\", \"Height\",\n",
    "    \"Price\", \"Type\", \"Fluorescence\"\n",
    "]\n",
    "\n",
    "\n",
    "# Удаление ненужных колонок\n",
    "data = data.drop([\"Shape\", \"Price\", \"Girdle\", \"Culet\", \"Length\", \"Width\", \"Height\"], axis=1)\n",
    "\n",
    "data.head()"
   ]
  },
  {
   "cell_type": "code",
   "execution_count": 92,
   "metadata": {},
   "outputs": [
    {
     "data": {
      "text/plain": [
       "<Axes: >"
      ]
     },
     "execution_count": 92,
     "metadata": {},
     "output_type": "execute_result"
    },
    {
     "data": {
      "image/png": "[encoded data removed]",
      "text/plain": [
       "<Figure size 640x480 with 1 Axes>"
      ]
     },
     "metadata": {},
     "output_type": "display_data"
    }
   ],
   "source": [
    "data.Type.hist()"
   ]
  },
  {
   "cell_type": "markdown",
   "metadata": {},
   "source": [
    "Подготавливаем данные для обучения"
   ]
  },
  {
   "cell_type": "code",
   "execution_count": 93,
   "metadata": {},
   "outputs": [
    {
     "name": "stdout",
     "output_type": "stream",
     "text": [
      "Размер обучающей выборки: (5188, 10), Размер тестовой выборки: (1297, 10)\n"
     ]
    }
   ],
   "source": [
    "# Кодирование целевой переменной\n",
    "label_encoder = LabelEncoder()\n",
    "data['Type'] = label_encoder.fit_transform(data['Type'])\n",
    "\n",
    "# Определение категориальных и числовых признаков\n",
    "categorical_features = [\"Cut\", \"Color\", \"Clarity\", \"Polish\", \"Symmetry\", \"Fluorescence\"]\n",
    "numerical_features = [\"Carat_Weight\", \"Length_Width_Ratio\", \"Depth\", \"Table\"]\n",
    "\n",
    "\n",
    "# Разделение данных на признаки и целевую переменную\n",
    "X = data.drop('Type', axis=1)\n",
    "y = data['Type']\n",
    "\n",
    "# Определение препроцессора с обработкой пропущенных значений\n",
    "preprocessor = ColumnTransformer(\n",
    "    transformers=[\n",
    "        ('num', Pipeline([\n",
    "            ('imputer', SimpleImputer(strategy='mean')),  # Заполнение пропусков средним для числовых данных\n",
    "            ('scaler', StandardScaler())\n",
    "        ]), numerical_features),\n",
    "        ('cat', Pipeline([\n",
    "            ('imputer', SimpleImputer(strategy='most_frequent')),  # Заполнение модой для категориальных данных\n",
    "            ('encoder', OneHotEncoder(drop='first'))\n",
    "        ]), categorical_features)\n",
    "    ]\n",
    ")\n",
    "\n",
    "# Разделение данных на обучающую и тестовую выборки\n",
    "X_train, X_test, y_train, y_test = train_test_split(X, y, test_size=0.2, random_state=42, stratify=y)\n",
    "\n",
    "print(f\"Размер обучающей выборки: {X_train.shape}, Размер тестовой выборки: {X_test.shape}\")\n"
   ]
  },
  {
   "cell_type": "markdown",
   "metadata": {},
   "source": [
    "Применим встроенный KNN для классификации"
   ]
  },
  {
   "cell_type": "code",
   "execution_count": 94,
   "metadata": {},
   "outputs": [
    {
     "name": "stdout",
     "output_type": "stream",
     "text": [
      "Бейзлайн:\n",
      "Accuracy: 0.8628\n",
      "F1-Score: 0.8635\n"
     ]
    }
   ],
   "source": [
    "# Пайплайн для KNN\n",
    "pipeline = Pipeline(steps=[\n",
    "    ('preprocessor', preprocessor),\n",
    "    ('knn', KNeighborsClassifier())\n",
    "])\n",
    "\n",
    "# Бейзлайн\n",
    "pipeline.fit(X_train, y_train)\n",
    "y_pred = pipeline.predict(X_test)\n",
    "\n",
    "accuracy = accuracy_score(y_test, y_pred)\n",
    "f1 = f1_score(y_test, y_pred, average='weighted')\n",
    "\n",
    "print(\"Бейзлайн:\")\n",
    "print(f\"Accuracy: {accuracy:.4f}\")\n",
    "print(f\"F1-Score: {f1:.4f}\")\n"
   ]
  },
  {
   "cell_type": "markdown",
   "metadata": {},
   "source": [
    "Подберем гиперпараметры для улучшения бейзлайна, сначала добавим новые признаки"
   ]
  },
  {
   "cell_type": "code",
   "execution_count": 95,
   "metadata": {},
   "outputs": [],
   "source": [
    "# Создание новых признаков\n",
    "data['Carat_Depth_Ratio'] = data['Carat_Weight'] / data['Depth']\n",
    "data['Table_Length_Width_Ratio'] = data['Table'] / data['Length_Width_Ratio']\n",
    "\n",
    "# Кодирование целевой переменной\n",
    "label_encoder = LabelEncoder()\n",
    "data['Type'] = label_encoder.fit_transform(data['Type'])\n",
    "\n",
    "\n",
    "# Определение категориальных и числовых признаков\n",
    "categorical_features = [\"Cut\", \"Color\", \"Clarity\", \"Polish\", \"Symmetry\", \"Fluorescence\"]\n",
    "numerical_features = [\"Carat_Weight\", \"Length_Width_Ratio\", \"Depth\", \"Table\", \"Carat_Depth_Ratio\", \"Table_Length_Width_Ratio\"]\n",
    "\n",
    "X = data.drop('Type', axis=1)\n",
    "y = data['Type']\n",
    "\n",
    "# Определение препроцессора\n",
    "preprocessor_best = ColumnTransformer(\n",
    "    transformers=[\n",
    "        ('num', Pipeline([\n",
    "            ('imputer', SimpleImputer(strategy='mean')),\n",
    "            ('scaler', StandardScaler())\n",
    "        ]), numerical_features),\n",
    "        ('cat', Pipeline([\n",
    "            ('imputer', SimpleImputer(strategy='most_frequent')),\n",
    "            ('encoder', OneHotEncoder(drop='first'))\n",
    "        ]), categorical_features)\n",
    "    ]\n",
    ")\n",
    "\n",
    "# Преобразование данных с использованием препроцессора\n",
    "X_preprocessed_best = preprocessor_best.fit_transform(X)\n",
    "\n",
    "# Балансировка классов с помощью SMOTE\n",
    "smote = SMOTE(random_state=42)\n",
    "X_resampled, y_resampled = smote.fit_resample(X_preprocessed_best, y)\n",
    "\n",
    "# Разделение данных на обучающую и тестовую выборки\n",
    "X_train_best, X_test_best, y_train_best, y_test_best = train_test_split(X_resampled, y_resampled, test_size=0.2, random_state=42, stratify=y_resampled)\n"
   ]
  },
  {
   "cell_type": "code",
   "execution_count": 101,
   "metadata": {},
   "outputs": [
    {
     "name": "stdout",
     "output_type": "stream",
     "text": [
      "Fitting 10 folds for each of 400 candidates, totalling 4000 fits\n",
      "Лучшие параметры: {'knn__metric': 'manhattan', 'knn__n_neighbors': 1, 'knn__weights': 'uniform'}\n"
     ]
    }
   ],
   "source": [
    "# Пайплайн для KNN\n",
    "pipeline = Pipeline(steps=[\n",
    "    ('knn', KNeighborsClassifier())\n",
    "])\n",
    "\n",
    "# Подбор гиперпараметров\n",
    "param_grid = {\n",
    "    'knn__n_neighbors': range(1, 101, 2),\n",
    "    'knn__weights': ['uniform', 'distance'],\n",
    "    'knn__metric': ['euclidean', 'manhattan', 'chebyshev', 'minkowski']\n",
    "}\n",
    "\n",
    "grid_search = GridSearchCV(pipeline, param_grid, cv=10, scoring='accuracy', verbose=1, n_jobs=-1)\n",
    "grid_search.fit(X_train_best, y_train_best)\n",
    "\n",
    "# Лучшие параметры\n",
    "best_params = grid_search.best_params_\n",
    "print(f\"Лучшие параметры: {best_params}\")\n",
    "\n"
   ]
  },
  {
   "cell_type": "markdown",
   "metadata": {},
   "source": [
    "Посмотрим результаты улучшенной модели"
   ]
  },
  {
   "cell_type": "code",
   "execution_count": 102,
   "metadata": {},
   "outputs": [
    {
     "name": "stdout",
     "output_type": "stream",
     "text": [
      "Улучшенный бейзлайн:\n",
      "Accuracy: 0.9240\n",
      "F1-Score: 0.9243\n",
      "\n",
      "Classification Report:\n",
      "              precision    recall  f1-score   support\n",
      "\n",
      "           0       0.98      0.94      0.96       671\n",
      "           1       0.90      0.92      0.91       671\n",
      "           2       0.90      0.91      0.91       671\n",
      "\n",
      "    accuracy                           0.92      2013\n",
      "   macro avg       0.93      0.92      0.92      2013\n",
      "weighted avg       0.93      0.92      0.92      2013\n",
      "\n"
     ]
    }
   ],
   "source": [
    "best_knn = grid_search.best_estimator_\n",
    "y_pred_best = best_knn.predict(X_test_best)\n",
    "\n",
    "accuracy_best = accuracy_score(y_test_best, y_pred_best)\n",
    "f1_best = f1_score(y_test_best, y_pred_best, average='weighted')\n",
    "\n",
    "print(\"Улучшенный бейзлайн:\")\n",
    "print(f\"Accuracy: {accuracy_best:.4f}\")\n",
    "print(f\"F1-Score: {f1_best:.4f}\")\n",
    "print(\"\\nClassification Report:\")\n",
    "print(classification_report(y_test_best, y_pred_best))"
   ]
  },
  {
   "cell_type": "markdown",
   "metadata": {},
   "source": [
    "реализуем собственный алгоритм"
   ]
  },
  {
   "cell_type": "code",
   "execution_count": 103,
   "metadata": {},
   "outputs": [],
   "source": [
    "# Реализация Custom KNN\n",
    "def euclidean_distance(x1, x2):\n",
    "    return np.sqrt(np.sum((x1 - x2) ** 2))\n",
    "\n",
    "class CustomKNN:\n",
    "    def __init__(self, k=3):\n",
    "        self.k = k\n",
    "\n",
    "    def fit(self, X, y):\n",
    "        self.X_train = X\n",
    "        self.y_train = np.array(y)\n",
    "\n",
    "    def predict(self, X):\n",
    "        predictions = [self._predict(x) for x in X]\n",
    "        return np.array(predictions)\n",
    "\n",
    "    def _predict(self, x):\n",
    "        distances = [euclidean_distance(x, x_train) for x_train in self.X_train]\n",
    "        k_indices = np.argsort(distances)[:self.k]\n",
    "        k_nearest_labels = [self.y_train[i] for i in k_indices]\n",
    "        most_common = Counter(k_nearest_labels).most_common(1)\n",
    "        return most_common[0][0]\n",
    "\n",
    "# Преобразуем данные с использованием пайплайна (только препроцессор)\n",
    "# Преобразование данных через препроцессор\n",
    "X_train_preprocessed = preprocessor.fit_transform(X_train)\n",
    "X_test_preprocessed = preprocessor.transform(X_test)\n",
    "\n",
    "assert not np.isnan(X_train_preprocessed).any(), \"NaN values found in X_train_preprocessed\"\n",
    "assert not np.isnan(X_test_preprocessed).any(), \"NaN values found in X_test_preprocessed\"\n",
    "\n",
    "\n",
    "# Инициализация Custom KNN\n",
    "custom_knn = CustomKNN(k=best_params['knn__n_neighbors'])\n",
    "custom_knn.fit(X_train_preprocessed, y_train)\n"
   ]
  },
  {
   "cell_type": "markdown",
   "metadata": {},
   "source": [
    "Результаты и метрики"
   ]
  },
  {
   "cell_type": "code",
   "execution_count": 105,
   "metadata": {},
   "outputs": [
    {
     "name": "stdout",
     "output_type": "stream",
     "text": [
      "Реализация Custom KNN:\n",
      "Accuracy: 0.8743\n",
      "F1-Score: 0.8748\n"
     ]
    }
   ],
   "source": [
    "y_pred_custom = custom_knn.predict(X_test_preprocessed)\n",
    "\n",
    "accuracy_custom = accuracy_score(y_test, y_pred_custom)\n",
    "f1_custom = f1_score(y_test, y_pred_custom, average='weighted')\n",
    "\n",
    "print(\"Реализация Custom KNN:\")\n",
    "print(f\"Accuracy: {accuracy_custom:.4f}\")\n",
    "print(f\"F1-Score: {f1_custom:.4f}\")"
   ]
  },
  {
   "cell_type": "markdown",
   "metadata": {},
   "source": [
    "сравним все результаты"
   ]
  },
  {
   "cell_type": "code",
   "execution_count": 106,
   "metadata": {},
   "outputs": [
    {
     "name": "stdout",
     "output_type": "stream",
     "text": [
      "Сравнение результатов:\n",
      "Бейзлайн Accuracy: 0.8628, Улучшенный Accuracy: 0.9240, Custom KNN Accuracy: 0.8743\n",
      "Бейзлайн F1-Score: 0.8635, Улучшенный F1-Score: 0.9243, Custom KNN F1-Score: 0.8748\n"
     ]
    }
   ],
   "source": [
    "print(\"Сравнение результатов:\")\n",
    "print(f\"Бейзлайн Accuracy: {accuracy:.4f}, Улучшенный Accuracy: {accuracy_best:.4f}, Custom KNN Accuracy: {accuracy_custom:.4f}\")\n",
    "print(f\"Бейзлайн F1-Score: {f1:.4f}, Улучшенный F1-Score: {f1_best:.4f}, Custom KNN F1-Score: {f1_custom:.4f}\")"
   ]
  },
  {
   "cell_type": "markdown",
   "metadata": {},
   "source": [
    "### KNN регрессия"
   ]
  },
  {
   "cell_type": "markdown",
   "metadata": {},
   "source": [
    "Постановка задачи: Прогноз цены камня.  \n",
    "На рынке драгоценных камней оценка стоимости часто зависит от экспертов и может быть субъективной. Модель для прогнозирования цены на основе характеристик камня (включая форму, вес, цвет, чистоту и т.д.) позволит автоматизировать процесс и сделать его более объективным. Это экономит время и снижает вероятность ошибок при оценке."
   ]
  },
  {
   "cell_type": "markdown",
   "metadata": {},
   "source": [
    "Загрузим необходимые библиотеки"
   ]
  },
  {
   "cell_type": "code",
   "execution_count": 110,
   "metadata": {},
   "outputs": [],
   "source": [
    "from collections import Counter\n",
    "import numpy as np\n",
    "import pandas as pd\n",
    "from sklearn.model_selection import train_test_split, GridSearchCV\n",
    "from sklearn.preprocessing import StandardScaler, OneHotEncoder, LabelEncoder\n",
    "from sklearn.compose import ColumnTransformer\n",
    "from sklearn.pipeline import Pipeline\n",
    "from sklearn.impute import SimpleImputer\n",
    "from sklearn.neighbors import KNeighborsRegressor\n",
    "from sklearn.metrics import mean_absolute_error, mean_squared_error, r2_score\n",
    "from imblearn.over_sampling import SMOTE"
   ]
  },
  {
   "cell_type": "markdown",
   "metadata": {},
   "source": [
    "Подготовими датасет"
   ]
  },
  {
   "cell_type": "code",
   "execution_count": 130,
   "metadata": {},
   "outputs": [
    {
     "data": {
      "text/html": [
       "<div>\n",
       "<style scoped>\n",
       "    .dataframe tbody tr th:only-of-type {\n",
       "        vertical-align: middle;\n",
       "    }\n",
       "\n",
       "    .dataframe tbody tr th {\n",
       "        vertical-align: top;\n",
       "    }\n",
       "\n",
       "    .dataframe thead th {\n",
       "        text-align: right;\n",
       "    }\n",
       "</style>\n",
       "<table border=\"1\" class=\"dataframe\">\n",
       "  <thead>\n",
       "    <tr style=\"text-align: right;\">\n",
       "      <th></th>\n",
       "      <th>Cut</th>\n",
       "      <th>Color</th>\n",
       "      <th>Clarity</th>\n",
       "      <th>Carat_Weight</th>\n",
       "      <th>Length_Width_Ratio</th>\n",
       "      <th>Depth</th>\n",
       "      <th>Table</th>\n",
       "      <th>Polish</th>\n",
       "      <th>Symmetry</th>\n",
       "      <th>Price</th>\n",
       "      <th>Type</th>\n",
       "      <th>Fluorescence</th>\n",
       "    </tr>\n",
       "  </thead>\n",
       "  <tbody>\n",
       "    <tr>\n",
       "      <th>0</th>\n",
       "      <td>Ideal</td>\n",
       "      <td>F</td>\n",
       "      <td>VVS2</td>\n",
       "      <td>1.84</td>\n",
       "      <td>1.02</td>\n",
       "      <td>65.8</td>\n",
       "      <td>59.0</td>\n",
       "      <td>Excellent</td>\n",
       "      <td>Very Good</td>\n",
       "      <td>2640</td>\n",
       "      <td>GIA Lab-Grown</td>\n",
       "      <td>NaN</td>\n",
       "    </tr>\n",
       "    <tr>\n",
       "      <th>1</th>\n",
       "      <td>NaN</td>\n",
       "      <td>E</td>\n",
       "      <td>VS1</td>\n",
       "      <td>1.20</td>\n",
       "      <td>1.65</td>\n",
       "      <td>62.5</td>\n",
       "      <td>58.0</td>\n",
       "      <td>Very Good</td>\n",
       "      <td>Very Good</td>\n",
       "      <td>1070</td>\n",
       "      <td>GIA Lab-Grown</td>\n",
       "      <td>NaN</td>\n",
       "    </tr>\n",
       "    <tr>\n",
       "      <th>2</th>\n",
       "      <td>NaN</td>\n",
       "      <td>E</td>\n",
       "      <td>VS1</td>\n",
       "      <td>1.19</td>\n",
       "      <td>1.41</td>\n",
       "      <td>63.1</td>\n",
       "      <td>63.0</td>\n",
       "      <td>Very Good</td>\n",
       "      <td>Very Good</td>\n",
       "      <td>1070</td>\n",
       "      <td>GIA Lab-Grown</td>\n",
       "      <td>NaN</td>\n",
       "    </tr>\n",
       "    <tr>\n",
       "      <th>3</th>\n",
       "      <td>NaN</td>\n",
       "      <td>D</td>\n",
       "      <td>IF</td>\n",
       "      <td>1.00</td>\n",
       "      <td>1.18</td>\n",
       "      <td>61.7</td>\n",
       "      <td>58.0</td>\n",
       "      <td>Excellent</td>\n",
       "      <td>Excellent</td>\n",
       "      <td>7110</td>\n",
       "      <td>GIA</td>\n",
       "      <td>Faint</td>\n",
       "    </tr>\n",
       "    <tr>\n",
       "      <th>4</th>\n",
       "      <td>NaN</td>\n",
       "      <td>H</td>\n",
       "      <td>VS1</td>\n",
       "      <td>1.01</td>\n",
       "      <td>1.35</td>\n",
       "      <td>69.4</td>\n",
       "      <td>66.0</td>\n",
       "      <td>Excellent</td>\n",
       "      <td>Very Good</td>\n",
       "      <td>3050</td>\n",
       "      <td>GIA</td>\n",
       "      <td>NaN</td>\n",
       "    </tr>\n",
       "  </tbody>\n",
       "</table>\n",
       "</div>"
      ],
      "text/plain": [
       "     Cut Color Clarity  Carat_Weight  Length_Width_Ratio  Depth  Table  \\\n",
       "0  Ideal     F    VVS2          1.84                1.02   65.8   59.0   \n",
       "1    NaN     E     VS1          1.20                1.65   62.5   58.0   \n",
       "2    NaN     E     VS1          1.19                1.41   63.1   63.0   \n",
       "3    NaN     D      IF          1.00                1.18   61.7   58.0   \n",
       "4    NaN     H     VS1          1.01                1.35   69.4   66.0   \n",
       "\n",
       "      Polish   Symmetry  Price           Type Fluorescence  \n",
       "0  Excellent  Very Good   2640  GIA Lab-Grown          NaN  \n",
       "1  Very Good  Very Good   1070  GIA Lab-Grown          NaN  \n",
       "2  Very Good  Very Good   1070  GIA Lab-Grown          NaN  \n",
       "3  Excellent  Excellent   7110            GIA        Faint  \n",
       "4  Excellent  Very Good   3050            GIA          NaN  "
      ]
     },
     "execution_count": 130,
     "metadata": {},
     "output_type": "execute_result"
    }
   ],
   "source": [
    "# Чтение данных\n",
    "data = pd.read_csv('diamonds.csv')\n",
    "\n",
    "# Переименование колонок\n",
    "data.columns = [\n",
    "    \"Shape\", \"Cut\", \"Color\", \"Clarity\",\n",
    "    \"Carat_Weight\", \"Length_Width_Ratio\", \"Depth\",\n",
    "    \"Table\", \"Polish\", \"Symmetry\", \"Girdle\",\n",
    "    \"Culet\", \"Length\", \"Width\", \"Height\",\n",
    "    \"Price\", \"Type\", \"Fluorescence\"\n",
    "]\n",
    "\n",
    "# Удаление ненужных колонок\n",
    "data = data.drop([\"Shape\", \"Girdle\", \"Culet\", \"Length\", \"Width\", \"Height\"], axis=1)\n",
    "\n",
    "data.head()"
   ]
  },
  {
   "cell_type": "code",
   "execution_count": 131,
   "metadata": {},
   "outputs": [
    {
     "data": {
      "text/plain": [
       "<Axes: >"
      ]
     },
     "execution_count": 131,
     "metadata": {},
     "output_type": "execute_result"
    },
    {
     "data": {
      "image/png": "[encoded data removed]",
      "text/plain": [
       "<Figure size 640x480 with 1 Axes>"
      ]
     },
     "metadata": {},
     "output_type": "display_data"
    }
   ],
   "source": [
    "data.Price.hist()"
   ]
  },
  {
   "cell_type": "markdown",
   "metadata": {},
   "source": [
    "Как мы можем заметить из графика, распределение значений стоимости камней не является равномерным и может повлиять на оценку работы модели. Применим квадратный корень ко всем значениям, чтобы сгладить их и уменьшает риск появления неккоретных оценок"
   ]
  },
  {
   "cell_type": "code",
   "execution_count": 135,
   "metadata": {},
   "outputs": [
    {
     "data": {
      "text/plain": [
       "<Axes: >"
      ]
     },
     "execution_count": 135,
     "metadata": {},
     "output_type": "execute_result"
    },
    {
     "data": {
      "image/png": "[encoded data removed]",
      "text/plain": [
       "<Figure size 640x480 with 1 Axes>"
      ]
     },
     "metadata": {},
     "output_type": "display_data"
    }
   ],
   "source": [
    "data['Price_mid'] =  np.sqrt(data['Price'])\n",
    "data.Price_mid.hist()"
   ]
  },
  {
   "cell_type": "markdown",
   "metadata": {},
   "source": [
    "подготавливаем данные для обучения"
   ]
  },
  {
   "cell_type": "code",
   "execution_count": 136,
   "metadata": {},
   "outputs": [],
   "source": [
    "# Определение категориальных и числовых признаков\n",
    "categorical_features = [\"Cut\", \"Color\", \"Clarity\", \"Polish\", \"Symmetry\", \"Fluorescence\"]\n",
    "numerical_features = [\"Carat_Weight\", \"Length_Width_Ratio\", \"Depth\", \"Table\"]\n",
    "\n",
    "# Разделение данных на признаки и целевую переменную\n",
    "X = data.drop('Price_mid', axis=1)  # Прогнозируемая переменная — Price\n",
    "y = data['Price_mid']\n",
    "\n",
    "# Определение препроцессора\n",
    "preprocessor = ColumnTransformer(\n",
    "    transformers=[\n",
    "        ('num', Pipeline([\n",
    "            ('imputer', SimpleImputer(strategy='mean')), \n",
    "            ('scaler', StandardScaler())\n",
    "        ]), numerical_features),\n",
    "        ('cat', Pipeline([\n",
    "            ('imputer', SimpleImputer(strategy='most_frequent')),\n",
    "            ('encoder', OneHotEncoder(drop='first'))\n",
    "        ]), categorical_features)\n",
    "    ]\n",
    ")\n",
    "\n",
    "# Разделение данных на обучающую и тестовую выборки\n",
    "X_train, X_test, y_train, y_test = train_test_split(X, y, test_size=0.2, random_state=42)\n",
    "\n",
    "# Преобразование данных\n",
    "X_train_preprocessed = preprocessor.fit_transform(X_train)\n",
    "X_test_preprocessed = preprocessor.transform(X_test)"
   ]
  },
  {
   "cell_type": "markdown",
   "metadata": {},
   "source": [
    "Обучаем модель"
   ]
  },
  {
   "cell_type": "code",
   "execution_count": 137,
   "metadata": {},
   "outputs": [
    {
     "name": "stdout",
     "output_type": "stream",
     "text": [
      "Бейзлайн метрики:\n",
      "MAE: 5.6427, MSE: 121.8248, R²: 0.7225\n"
     ]
    }
   ],
   "source": [
    "\n",
    "# Базовая модель KNN для регрессии\n",
    "knn = KNeighborsRegressor(n_neighbors=5)\n",
    "knn.fit(X_train_preprocessed, y_train)\n",
    "y_pred = knn.predict(X_test_preprocessed)\n",
    "\n",
    "# Оценка модели\n",
    "def evaluate_model(y_true, y_pred):\n",
    "    mae = mean_absolute_error(y_true, y_pred)\n",
    "    mse = mean_squared_error(y_true, y_pred)\n",
    "    r2 = r2_score(y_true, y_pred)\n",
    "    return mae, mse, r2\n",
    "\n",
    "print(\"Бейзлайн метрики:\")\n",
    "mae, mse, r2 = evaluate_model(y_test, y_pred)\n",
    "print(f\"MAE: {mae:.4f}, MSE: {mse:.4f}, R²: {r2:.4f}\")\n"
   ]
  },
  {
   "cell_type": "markdown",
   "metadata": {},
   "source": [
    "Подберем гиперпараметры для улучшения"
   ]
  },
  {
   "cell_type": "code",
   "execution_count": 138,
   "metadata": {},
   "outputs": [
    {
     "name": "stdout",
     "output_type": "stream",
     "text": [
      "Fitting 5 folds for each of 30 candidates, totalling 150 fits\n",
      "Лучший k: 5\n",
      "\n",
      "Оптимизированные метрики:\n",
      "MAE: 5.6427, MSE: 121.8248, R²: 0.7225\n"
     ]
    }
   ],
   "source": [
    "# Подбор гиперпараметров\n",
    "param_grid = {\"n_neighbors\": range(1, 31)}\n",
    "grid_search = GridSearchCV(\n",
    "    KNeighborsRegressor(),\n",
    "    param_grid,\n",
    "    cv=5,\n",
    "    scoring=\"r2\",\n",
    "    verbose=1,\n",
    ")\n",
    "grid_search.fit(X_train_preprocessed, y_train)\n",
    "\n",
    "# Лучшие параметры\n",
    "best_k = grid_search.best_params_[\"n_neighbors\"]\n",
    "print(f\"Лучший k: {best_k}\")\n",
    "\n",
    "# Оптимизированная модель\n",
    "knn_optimized = KNeighborsRegressor(n_neighbors=best_k)\n",
    "knn_optimized.fit(X_train_preprocessed, y_train)\n",
    "y_pred_optimized = knn_optimized.predict(X_test_preprocessed)\n",
    "\n",
    "print(\"\\nОптимизированные метрики:\")\n",
    "mae_opt, mse_opt, r2_opt = evaluate_model(y_test, y_pred_optimized)\n",
    "print(f\"MAE: {mae_opt:.4f}, MSE: {mse_opt:.4f}, R²: {r2_opt:.4f}\")\n"
   ]
  },
  {
   "cell_type": "markdown",
   "metadata": {},
   "source": [
    "Реализуем собственный алгоритм"
   ]
  },
  {
   "cell_type": "code",
   "execution_count": 139,
   "metadata": {},
   "outputs": [
    {
     "name": "stdout",
     "output_type": "stream",
     "text": [
      "\n",
      "Custom KNN метрики:\n",
      "MAE: 5.6422, MSE: 121.8234, R²: 0.7225\n"
     ]
    }
   ],
   "source": [
    "# Реализация Custom KNN\n",
    "def euclidean_distance(x1, x2):\n",
    "    return np.sqrt(np.sum((x1 - x2) ** 2))\n",
    "\n",
    "class CustomKNNRegressor:\n",
    "    def __init__(self, k=3):\n",
    "        self.k = k\n",
    "\n",
    "    def fit(self, X, y):\n",
    "        self.X_train = X\n",
    "        self.y_train = np.array(y)\n",
    "\n",
    "    def predict(self, X):\n",
    "        predictions = [self._predict(x) for x in X]\n",
    "        return np.array(predictions)\n",
    "\n",
    "    def _predict(self, x):\n",
    "        distances = [euclidean_distance(x, x_train) for x_train in self.X_train]\n",
    "        k_indices = np.argsort(distances)[:self.k]\n",
    "        k_nearest_labels = [self.y_train[i] for i in k_indices]\n",
    "        return np.mean(k_nearest_labels)\n",
    "\n",
    "# Custom KNN для прогноза цены\n",
    "custom_knn = CustomKNNRegressor(k=best_k)\n",
    "custom_knn.fit(X_train_preprocessed, y_train)\n",
    "y_pred_custom = custom_knn.predict(X_test_preprocessed)\n",
    "\n",
    "mae_custom, mse_custom, r2_custom = evaluate_model(y_test, y_pred_custom)\n",
    "\n",
    "print(\"\\nCustom KNN метрики:\")\n",
    "print(f\"MAE: {mae_custom:.4f}, MSE: {mse_custom:.4f}, R²: {r2_custom:.4f}\")\n"
   ]
  },
  {
   "cell_type": "markdown",
   "metadata": {},
   "source": [
    "Сравним результаты"
   ]
  },
  {
   "cell_type": "code",
   "execution_count": 140,
   "metadata": {},
   "outputs": [
    {
     "name": "stdout",
     "output_type": "stream",
     "text": [
      "\n",
      "Сравнение результатов:\n",
      "Бейзлайн MAE: 5.6427, Оптимизированный MAE: 5.6427, Custom KNN MAE: 5.6422\n",
      "Бейзлайн MSE: 121.8248, Оптимизированный MSE: 121.8248, Custom KNN MSE: 121.8234\n",
      "Бейзлайн R²: 0.7225, Оптимизированный R²: 0.7225, Custom KNN R²: 0.7225\n"
     ]
    }
   ],
   "source": [
    "# Сравнение результатов\n",
    "print(\"\\nСравнение результатов:\")\n",
    "print(f\"Бейзлайн MAE: {mae:.4f}, Оптимизированный MAE: {mae_opt:.4f}, Custom KNN MAE: {mae_custom:.4f}\")\n",
    "print(f\"Бейзлайн MSE: {mse:.4f}, Оптимизированный MSE: {mse_opt:.4f}, Custom KNN MSE: {mse_custom:.4f}\")\n",
    "print(f\"Бейзлайн R²: {r2:.4f}, Оптимизированный R²: {r2_opt:.4f}, Custom KNN R²: {r2_custom:.4f}\")"
   ]
  },
  {
   "cell_type": "markdown",
   "metadata": {},
   "source": [
    "## Линейные модели"
   ]
  },
  {
   "cell_type": "markdown",
   "metadata": {},
   "source": [
    "### Классификация"
   ]
  },
  {
   "cell_type": "markdown",
   "metadata": {},
   "source": [
    "Загрузим необходимые библиотеки"
   ]
  },
  {
   "cell_type": "code",
   "execution_count": 16,
   "metadata": {},
   "outputs": [],
   "source": [
    "import pandas as pd\n",
    "import numpy as np\n",
    "from sklearn.preprocessing import StandardScaler, OneHotEncoder, LabelEncoder\n",
    "from sklearn.model_selection import train_test_split, GridSearchCV\n",
    "from sklearn.compose import ColumnTransformer\n",
    "from sklearn.pipeline import Pipeline\n",
    "from sklearn.impute import SimpleImputer\n",
    "from sklearn.linear_model import LogisticRegression\n",
    "from sklearn.metrics import accuracy_score, f1_score, classification_report\n",
    "from scipy.special import expit\n",
    "from collections import Counter\n",
    "from imblearn.over_sampling import SMOTE"
   ]
  },
  {
   "cell_type": "markdown",
   "metadata": {},
   "source": [
    "Подготовим датасет"
   ]
  },
  {
   "cell_type": "code",
   "execution_count": 26,
   "metadata": {},
   "outputs": [
    {
     "data": {
      "text/html": [
       "<div>\n",
       "<style scoped>\n",
       "    .dataframe tbody tr th:only-of-type {\n",
       "        vertical-align: middle;\n",
       "    }\n",
       "\n",
       "    .dataframe tbody tr th {\n",
       "        vertical-align: top;\n",
       "    }\n",
       "\n",
       "    .dataframe thead th {\n",
       "        text-align: right;\n",
       "    }\n",
       "</style>\n",
       "<table border=\"1\" class=\"dataframe\">\n",
       "  <thead>\n",
       "    <tr style=\"text-align: right;\">\n",
       "      <th></th>\n",
       "      <th>Cut</th>\n",
       "      <th>Color</th>\n",
       "      <th>Clarity</th>\n",
       "      <th>Carat_Weight</th>\n",
       "      <th>Length_Width_Ratio</th>\n",
       "      <th>Depth</th>\n",
       "      <th>Table</th>\n",
       "      <th>Polish</th>\n",
       "      <th>Symmetry</th>\n",
       "      <th>Type</th>\n",
       "      <th>Fluorescence</th>\n",
       "    </tr>\n",
       "  </thead>\n",
       "  <tbody>\n",
       "    <tr>\n",
       "      <th>0</th>\n",
       "      <td>Ideal</td>\n",
       "      <td>F</td>\n",
       "      <td>VVS2</td>\n",
       "      <td>1.84</td>\n",
       "      <td>1.02</td>\n",
       "      <td>65.8</td>\n",
       "      <td>59.0</td>\n",
       "      <td>Excellent</td>\n",
       "      <td>Very Good</td>\n",
       "      <td>GIA Lab-Grown</td>\n",
       "      <td>NaN</td>\n",
       "    </tr>\n",
       "    <tr>\n",
       "      <th>1</th>\n",
       "      <td>NaN</td>\n",
       "      <td>E</td>\n",
       "      <td>VS1</td>\n",
       "      <td>1.20</td>\n",
       "      <td>1.65</td>\n",
       "      <td>62.5</td>\n",
       "      <td>58.0</td>\n",
       "      <td>Very Good</td>\n",
       "      <td>Very Good</td>\n",
       "      <td>GIA Lab-Grown</td>\n",
       "      <td>NaN</td>\n",
       "    </tr>\n",
       "    <tr>\n",
       "      <th>2</th>\n",
       "      <td>NaN</td>\n",
       "      <td>E</td>\n",
       "      <td>VS1</td>\n",
       "      <td>1.19</td>\n",
       "      <td>1.41</td>\n",
       "      <td>63.1</td>\n",
       "      <td>63.0</td>\n",
       "      <td>Very Good</td>\n",
       "      <td>Very Good</td>\n",
       "      <td>GIA Lab-Grown</td>\n",
       "      <td>NaN</td>\n",
       "    </tr>\n",
       "    <tr>\n",
       "      <th>3</th>\n",
       "      <td>NaN</td>\n",
       "      <td>D</td>\n",
       "      <td>IF</td>\n",
       "      <td>1.00</td>\n",
       "      <td>1.18</td>\n",
       "      <td>61.7</td>\n",
       "      <td>58.0</td>\n",
       "      <td>Excellent</td>\n",
       "      <td>Excellent</td>\n",
       "      <td>GIA</td>\n",
       "      <td>Faint</td>\n",
       "    </tr>\n",
       "    <tr>\n",
       "      <th>4</th>\n",
       "      <td>NaN</td>\n",
       "      <td>H</td>\n",
       "      <td>VS1</td>\n",
       "      <td>1.01</td>\n",
       "      <td>1.35</td>\n",
       "      <td>69.4</td>\n",
       "      <td>66.0</td>\n",
       "      <td>Excellent</td>\n",
       "      <td>Very Good</td>\n",
       "      <td>GIA</td>\n",
       "      <td>NaN</td>\n",
       "    </tr>\n",
       "  </tbody>\n",
       "</table>\n",
       "</div>"
      ],
      "text/plain": [
       "     Cut Color Clarity  Carat_Weight  Length_Width_Ratio  Depth  Table  \\\n",
       "0  Ideal     F    VVS2          1.84                1.02   65.8   59.0   \n",
       "1    NaN     E     VS1          1.20                1.65   62.5   58.0   \n",
       "2    NaN     E     VS1          1.19                1.41   63.1   63.0   \n",
       "3    NaN     D      IF          1.00                1.18   61.7   58.0   \n",
       "4    NaN     H     VS1          1.01                1.35   69.4   66.0   \n",
       "\n",
       "      Polish   Symmetry           Type Fluorescence  \n",
       "0  Excellent  Very Good  GIA Lab-Grown          NaN  \n",
       "1  Very Good  Very Good  GIA Lab-Grown          NaN  \n",
       "2  Very Good  Very Good  GIA Lab-Grown          NaN  \n",
       "3  Excellent  Excellent            GIA        Faint  \n",
       "4  Excellent  Very Good            GIA          NaN  "
      ]
     },
     "execution_count": 26,
     "metadata": {},
     "output_type": "execute_result"
    }
   ],
   "source": [
    "# Чтение данных\n",
    "data = pd.read_csv('diamonds.csv')\n",
    "\n",
    "# Переименование колонок\n",
    "data.columns = [\n",
    "    \"Shape\", \"Cut\", \"Color\", \"Clarity\",\n",
    "    \"Carat_Weight\", \"Length_Width_Ratio\", \"Depth\",\n",
    "    \"Table\", \"Polish\", \"Symmetry\", \"Girdle\",\n",
    "    \"Culet\", \"Length\", \"Width\", \"Height\",\n",
    "    \"Price\", \"Type\", \"Fluorescence\"\n",
    "]\n",
    "\n",
    "\n",
    "# Удаление ненужных колонок\n",
    "data = data.drop([\"Shape\", \"Price\", \"Girdle\", \"Culet\", \"Length\", \"Width\", \"Height\"], axis=1)\n",
    "\n",
    "data.head()"
   ]
  },
  {
   "cell_type": "markdown",
   "metadata": {},
   "source": [
    "Выберем переменнную для классификации"
   ]
  },
  {
   "cell_type": "code",
   "execution_count": 12,
   "metadata": {},
   "outputs": [
    {
     "name": "stdout",
     "output_type": "stream",
     "text": [
      "Размер обучающей выборки: (5188, 11), Размер тестовой выборки: (1297, 11)\n"
     ]
    }
   ],
   "source": [
    "# Кодирование целевой переменной\n",
    "label_encoder = LabelEncoder()\n",
    "data['Type'] = label_encoder.fit_transform(data['Type'])\n",
    "\n",
    "# Определение категориальных и числовых признаков\n",
    "categorical_features = [\"Cut\", \"Color\", \"Clarity\", \"Polish\", \"Symmetry\", \"Fluorescence\"]\n",
    "numerical_features = [\"Carat_Weight\", \"Length_Width_Ratio\", \"Depth\", \"Table\"]\n",
    "\n",
    "\n",
    "# Разделение данных на признаки и целевую переменную\n",
    "X = data.drop('Type', axis=1)\n",
    "y = data['Type']\n",
    "\n",
    "# Определение препроцессора с обработкой пропущенных значений\n",
    "preprocessor = ColumnTransformer(\n",
    "    transformers=[\n",
    "        ('num', Pipeline([\n",
    "            ('imputer', SimpleImputer(strategy='mean')),  # Заполнение пропусков средним для числовых данных\n",
    "            ('scaler', StandardScaler())\n",
    "        ]), numerical_features),\n",
    "        ('cat', Pipeline([\n",
    "            ('imputer', SimpleImputer(strategy='most_frequent')),  # Заполнение модой для категориальных данных\n",
    "            ('encoder', OneHotEncoder(drop='first'))\n",
    "        ]), categorical_features)\n",
    "    ]\n",
    ")\n",
    "\n",
    "# Разделение данных на обучающую и тестовую выборки\n",
    "X_train, X_test, y_train, y_test = train_test_split(X, y, test_size=0.2, random_state=42, stratify=y)\n",
    "\n",
    "print(f\"Размер обучающей выборки: {X_train.shape}, Размер тестовой выборки: {X_test.shape}\")"
   ]
  },
  {
   "cell_type": "markdown",
   "metadata": {},
   "source": [
    "Применим готовый алгоритм"
   ]
  },
  {
   "cell_type": "code",
   "execution_count": 14,
   "metadata": {},
   "outputs": [
    {
     "name": "stdout",
     "output_type": "stream",
     "text": [
      "Бейзлайн:\n",
      "Accuracy: 0.8658\n",
      "F1-Score: 0.8623\n",
      "\n",
      "Classification Report:\n",
      "              precision    recall  f1-score   support\n",
      "\n",
      "           0       0.95      0.93      0.94       671\n",
      "           1       0.80      0.60      0.68       251\n",
      "           2       0.77      0.93      0.84       375\n",
      "\n",
      "    accuracy                           0.87      1297\n",
      "   macro avg       0.84      0.82      0.82      1297\n",
      "weighted avg       0.87      0.87      0.86      1297\n",
      "\n"
     ]
    }
   ],
   "source": [
    "X_train_preprocessed = preprocessor.fit_transform(X_train)\n",
    "X_test_preprocessed = preprocessor.transform(X_test)\n",
    "\n",
    "lr_baseline = LogisticRegression(max_iter=1000, random_state=42)\n",
    "lr_baseline.fit(X_train_preprocessed, y_train)\n",
    "\n",
    "y_pred = lr_baseline.predict(X_test_preprocessed)\n",
    "\n",
    "accuracy = accuracy_score(y_test, y_pred)\n",
    "f1 = f1_score(y_test, y_pred, average='weighted')\n",
    "\n",
    "print(\"Бейзлайн:\")\n",
    "print(f\"Accuracy: {accuracy:.4f}\")\n",
    "print(f\"F1-Score: {f1:.4f}\")\n",
    "print(\"\\nClassification Report:\")\n",
    "print(classification_report(y_test, y_pred))"
   ]
  },
  {
   "cell_type": "markdown",
   "metadata": {},
   "source": [
    "Подберем гиперпараметры для улучшения бейзлайна, сначала добавим новые признаки"
   ]
  },
  {
   "cell_type": "code",
   "execution_count": 51,
   "metadata": {},
   "outputs": [],
   "source": [
    "# Создание новых признаков\n",
    "data['Carat_Depth_Ratio'] = data['Carat_Weight'] / data['Depth']\n",
    "data['Table_Length_Width_Ratio'] = data['Table'] / data['Length_Width_Ratio']\n",
    "\n",
    "# Кодирование целевой переменной\n",
    "label_encoder = LabelEncoder()\n",
    "data['Type'] = label_encoder.fit_transform(data['Type'])\n",
    "\n",
    "# Определение категориальных и числовых признаков\n",
    "categorical_features = [\"Cut\", \"Color\", \"Clarity\", \"Polish\", \"Symmetry\", \"Fluorescence\"]\n",
    "numerical_features = [\"Carat_Weight\", \"Length_Width_Ratio\", \"Depth\", \"Table\", \"Carat_Depth_Ratio\", \"Table_Length_Width_Ratio\"]\n",
    "\n",
    "X = data.drop('Type', axis=1)\n",
    "y = data['Type']\n",
    "\n",
    "# Определение препроцессора с полиномиальными признаками\n",
    "preprocessor_best = ColumnTransformer(\n",
    "    transformers=[\n",
    "        ('num', Pipeline([\n",
    "            ('imputer', SimpleImputer(strategy='mean')),\n",
    "            ('poly', PolynomialFeatures(degree=2, include_bias=False)),  # Полиномиальные признаки\n",
    "            ('scaler', StandardScaler())\n",
    "        ]), numerical_features),\n",
    "        ('cat', Pipeline([\n",
    "            ('imputer', SimpleImputer(strategy='most_frequent')),\n",
    "            ('encoder', OneHotEncoder(drop='first'))\n",
    "        ]), categorical_features)\n",
    "    ]\n",
    ")\n",
    "\n",
    "# Преобразование данных\n",
    "X_preprocessed_best = preprocessor_best.fit_transform(X)\n",
    "\n",
    "# Балансировка классов с помощью SMOTE\n",
    "smote = SMOTE(random_state=42)\n",
    "X_resampled, y_resampled = smote.fit_resample(X_preprocessed_best, y)\n",
    "\n",
    "# Разделение данных на обучающую и тестовую выборки\n",
    "X_train_best, X_test_best, y_train_best, y_test_best = train_test_split(\n",
    "    X_resampled, y_resampled, test_size=0.2, random_state=42, stratify=y_resampled\n",
    ")"
   ]
  },
  {
   "cell_type": "markdown",
   "metadata": {},
   "source": []
  },
  {
   "cell_type": "code",
   "execution_count": 52,
   "metadata": {},
   "outputs": [
    {
     "name": "stdout",
     "output_type": "stream",
     "text": [
      "Fitting 5 folds for each of 64 candidates, totalling 320 fits\n",
      "Лучшие параметры: {'C': 100000, 'class_weight': 'balanced', 'penalty': 'l2', 'solver': 'lbfgs'}\n"
     ]
    }
   ],
   "source": [
    "# Подбор гиперпараметров для LogisticRegression\n",
    "param_grid = {\n",
    "    'C': [0.01, 0.1, 1, 10, 100, 1000, 10000, 100000],  # Расширенный диапазон регуляризации\n",
    "    'solver': ['liblinear', 'lbfgs', 'sag', 'saga'],  # Оптимизаторы\n",
    "    'penalty': ['l2'],  # Регуляризация L2\n",
    "    'class_weight': [None, 'balanced']  # Балансировка классов\n",
    "}\n",
    "\n",
    "grid_search = GridSearchCV(\n",
    "    LogisticRegression(max_iter=100000, random_state=42),\n",
    "    param_grid,\n",
    "    cv=5,\n",
    "    scoring='accuracy',\n",
    "    verbose=1,\n",
    "    n_jobs=-1\n",
    ")\n",
    "\n",
    "grid_search.fit(X_train_best, y_train_best)\n",
    "\n",
    "# Лучшие параметры\n",
    "best_params = grid_search.best_params_\n",
    "print(f\"Лучшие параметры: {best_params}\")"
   ]
  },
  {
   "cell_type": "markdown",
   "metadata": {},
   "source": []
  },
  {
   "cell_type": "code",
   "execution_count": 53,
   "metadata": {},
   "outputs": [
    {
     "name": "stdout",
     "output_type": "stream",
     "text": [
      "\n",
      "Улучшенный бейзлайн:\n",
      "Accuracy: 0.8515\n",
      "F1-Score: 0.8515\n",
      "\n",
      "Classification Report:\n",
      "              precision    recall  f1-score   support\n",
      "\n",
      "           0       0.98      0.93      0.95       671\n",
      "           1       0.87      0.71      0.78       671\n",
      "           2       0.74      0.92      0.82       671\n",
      "\n",
      "    accuracy                           0.85      2013\n",
      "   macro avg       0.86      0.85      0.85      2013\n",
      "weighted avg       0.86      0.85      0.85      2013\n",
      "\n"
     ]
    }
   ],
   "source": [
    "# Оптимизированная модель Logistic Regression\n",
    "best_lr = grid_search.best_estimator_\n",
    "\n",
    "# Предсказания на тестовой выборке\n",
    "y_pred_best = best_lr.predict(X_test_best)\n",
    "\n",
    "# Оценка модели\n",
    "accuracy_best = accuracy_score(y_test_best, y_pred_best)\n",
    "f1_best = f1_score(y_test_best, y_pred_best, average='weighted')\n",
    "\n",
    "print(\"\\nУлучшенный бейзлайн:\")\n",
    "print(f\"Accuracy: {accuracy_best:.4f}\")\n",
    "print(f\"F1-Score: {f1_best:.4f}\")\n",
    "print(\"\\nClassification Report:\")\n",
    "print(classification_report(y_test_best, y_pred_best))"
   ]
  },
  {
   "cell_type": "code",
   "execution_count": 49,
   "metadata": {},
   "outputs": [
    {
     "name": "stdout",
     "output_type": "stream",
     "text": [
      "Fitting 5 folds for each of 64 candidates, totalling 320 fits\n",
      "Лучшие параметры: {'C': 10000, 'class_weight': None, 'penalty': 'l2', 'solver': 'lbfgs'}\n",
      "\n",
      "Улучшенный бейзлайн:\n",
      "Accuracy: 0.8475\n",
      "F1-Score: 0.8474\n",
      "\n",
      "Classification Report:\n",
      "              precision    recall  f1-score   support\n",
      "\n",
      "           0       0.98      0.93      0.95       671\n",
      "           1       0.87      0.70      0.77       671\n",
      "           2       0.73      0.91      0.81       671\n",
      "\n",
      "    accuracy                           0.85      2013\n",
      "   macro avg       0.86      0.85      0.85      2013\n",
      "weighted avg       0.86      0.85      0.85      2013\n",
      "\n"
     ]
    }
   ],
   "source": [
    "from sklearn.compose import ColumnTransformer\n",
    "from sklearn.pipeline import Pipeline\n",
    "from sklearn.preprocessing import StandardScaler, OneHotEncoder, PolynomialFeatures\n",
    "from sklearn.impute import SimpleImputer\n",
    "from sklearn.linear_model import LogisticRegression\n",
    "from sklearn.metrics import accuracy_score, f1_score, classification_report\n",
    "from sklearn.model_selection import train_test_split, GridSearchCV\n",
    "from imblearn.over_sampling import SMOTE\n",
    "import pandas as pd\n",
    "\n",
    "# Создание новых признаков\n",
    "#data['Carat_Depth_Ratio'] = data['Carat_Weight'] / data['Depth']\n",
    "#data['Table_Length_Width_Ratio'] = data['Table'] / data['Length_Width_Ratio']\n",
    "\n",
    "# Кодирование целевой переменной\n",
    "label_encoder = LabelEncoder()\n",
    "data['Type'] = label_encoder.fit_transform(data['Type'])\n",
    "\n",
    "# Определение категориальных и числовых признаков\n",
    "categorical_features = [\"Cut\", \"Color\", \"Clarity\", \"Polish\", \"Symmetry\", \"Fluorescence\"]\n",
    "numerical_features = [\"Carat_Weight\", \"Length_Width_Ratio\", \"Depth\", \"Table\",]\n",
    "\n",
    "X = data.drop('Type', axis=1)\n",
    "y = data['Type']\n",
    "\n",
    "# Определение препроцессора с полиномиальными признаками\n",
    "preprocessor_best = ColumnTransformer(\n",
    "    transformers=[\n",
    "        ('num', Pipeline([\n",
    "            ('imputer', SimpleImputer(strategy='mean')),\n",
    "            ('poly', PolynomialFeatures(degree=2, include_bias=False)),  # Полиномиальные признаки\n",
    "            ('scaler', StandardScaler())\n",
    "        ]), numerical_features),\n",
    "        ('cat', Pipeline([\n",
    "            ('imputer', SimpleImputer(strategy='most_frequent')),\n",
    "            ('encoder', OneHotEncoder(drop='first'))\n",
    "        ]), categorical_features)\n",
    "    ]\n",
    ")\n",
    "\n",
    "# Преобразование данных\n",
    "X_preprocessed_best = preprocessor_best.fit_transform(X)\n",
    "\n",
    "# Балансировка классов с помощью SMOTE\n",
    "smote = SMOTE(random_state=42)\n",
    "X_resampled, y_resampled = smote.fit_resample(X_preprocessed_best, y)\n",
    "\n",
    "# Разделение данных на обучающую и тестовую выборки\n",
    "X_train_best, X_test_best, y_train_best, y_test_best = train_test_split(\n",
    "    X_resampled, y_resampled, test_size=0.2, random_state=42, stratify=y_resampled\n",
    ")\n",
    "\n",
    "# Подбор гиперпараметров для LogisticRegression\n",
    "param_grid = {\n",
    "    'C': [0.01, 0.1, 1, 10, 100, 1000, 10000, 100000],  # Расширенный диапазон регуляризации\n",
    "    'solver': ['liblinear', 'lbfgs', 'sag', 'saga'],  # Оптимизаторы\n",
    "    'penalty': ['l2'],  # Регуляризация L2\n",
    "    'class_weight': [None, 'balanced']  # Балансировка классов\n",
    "}\n",
    "\n",
    "grid_search = GridSearchCV(\n",
    "    LogisticRegression(max_iter=100000, random_state=42),\n",
    "    param_grid,\n",
    "    cv=5,\n",
    "    scoring='accuracy',\n",
    "    verbose=1,\n",
    "    n_jobs=-1\n",
    ")\n",
    "\n",
    "grid_search.fit(X_train_best, y_train_best)\n",
    "\n",
    "# Лучшие параметры\n",
    "best_params = grid_search.best_params_\n",
    "print(f\"Лучшие параметры: {best_params}\")\n",
    "\n",
    "# Оптимизированная модель Logistic Regression\n",
    "best_lr = grid_search.best_estimator_\n",
    "\n",
    "# Предсказания на тестовой выборке\n",
    "y_pred_best = best_lr.predict(X_test_best)\n",
    "\n",
    "# Оценка модели\n",
    "accuracy_best = accuracy_score(y_test_best, y_pred_best)\n",
    "f1_best = f1_score(y_test_best, y_pred_best, average='weighted')\n",
    "\n",
    "print(\"\\nУлучшенный бейзлайн:\")\n",
    "print(f\"Accuracy: {accuracy_best:.4f}\")\n",
    "print(f\"F1-Score: {f1_best:.4f}\")\n",
    "print(\"\\nClassification Report:\")\n",
    "print(classification_report(y_test_best, y_pred_best))\n"
   ]
  },
  {
   "cell_type": "markdown",
   "metadata": {},
   "source": [
    "Собственный алгоритм"
   ]
  },
  {
   "cell_type": "code",
   "execution_count": 55,
   "metadata": {},
   "outputs": [
    {
     "name": "stdout",
     "output_type": "stream",
     "text": [
      "Имплементация:\n",
      "Accuracy: 0.8013\n",
      "F1-Score: 0.8000\n",
      "\n",
      "Classification Report:\n",
      "              precision    recall  f1-score   support\n",
      "\n",
      "           0       0.92      0.87      0.89       671\n",
      "           1       0.81      0.65      0.72       671\n",
      "           2       0.71      0.88      0.79       671\n",
      "\n",
      "    accuracy                           0.80      2013\n",
      "   macro avg       0.81      0.80      0.80      2013\n",
      "weighted avg       0.81      0.80      0.80      2013\n",
      "\n"
     ]
    }
   ],
   "source": [
    "class CustomLogisticRegression:\n",
    "    def __init__(self, learning_rate=0.01, n_iterations=1000):\n",
    "        self.learning_rate = learning_rate\n",
    "        self.n_iterations = n_iterations\n",
    "\n",
    "    def fit(self, X, y):\n",
    "        self.classes_ = np.unique(y)\n",
    "        y_encoded = self._one_hot_encode(y)\n",
    "        self.weights = np.zeros((X.shape[1], len(self.classes_)))\n",
    "        self.bias = np.zeros(len(self.classes_))\n",
    "\n",
    "        for _ in range(self.n_iterations):\n",
    "            linear_model = np.dot(X, self.weights) + self.bias\n",
    "            probabilities = self._softmax(linear_model)\n",
    "            dw = np.dot(X.T, (probabilities - y_encoded)) / X.shape[0]\n",
    "            db = np.sum(probabilities - y_encoded, axis=0) / X.shape[0]\n",
    "\n",
    "            self.weights -= self.learning_rate * dw\n",
    "            self.bias -= self.learning_rate * db\n",
    "\n",
    "    def predict(self, X):\n",
    "        linear_model = np.dot(X, self.weights) + self.bias\n",
    "        probabilities = self._softmax(linear_model)\n",
    "        predictions = np.argmax(probabilities, axis=1)\n",
    "        return self.classes_[predictions]\n",
    "\n",
    "    def _softmax(self, z):\n",
    "        exp_z = np.exp(z - np.max(z, axis=1, keepdims=True))\n",
    "        return exp_z / np.sum(exp_z, axis=1, keepdims=True)\n",
    "\n",
    "    def _one_hot_encode(self, y):\n",
    "        y_encoded = np.zeros((y.shape[0], len(self.classes_)))\n",
    "        for idx, class_ in enumerate(self.classes_):\n",
    "            y_encoded[:, idx] = (y == class_).astype(float)\n",
    "        return y_encoded\n",
    "\n",
    "# Преобразуем данные в массивы NumPy\n",
    "X_train_np = X_train_best.toarray() if hasattr(X_train_best, 'toarray') else np.array(X_train_best)\n",
    "X_test_np = X_test_best.toarray() if hasattr(X_test_best, 'toarray') else np.array(X_test_best)\n",
    "\n",
    "# Обучение кастомной модели\n",
    "custom_lr = CustomLogisticRegression(learning_rate=0.1, n_iterations=1000)\n",
    "custom_lr.fit(X_train_np, y_train_best)\n",
    "\n",
    "# Предсказания\n",
    "y_pred_custom = custom_lr.predict(X_test_np)\n",
    "\n",
    "# Оценка модели\n",
    "accuracy_custom = accuracy_score(y_test_best, y_pred_custom)\n",
    "f1_custom = f1_score(y_test_best, y_pred_custom, average='weighted')\n",
    "\n",
    "print(\"Имплементация:\")\n",
    "print(f\"Accuracy: {accuracy_custom:.4f}\")\n",
    "print(f\"F1-Score: {f1_custom:.4f}\")\n",
    "print(\"\\nClassification Report:\")\n",
    "print(classification_report(y_test_best, y_pred_custom))\n"
   ]
  },
  {
   "cell_type": "markdown",
   "metadata": {},
   "source": [
    "Сравнение результатов"
   ]
  },
  {
   "cell_type": "code",
   "execution_count": 56,
   "metadata": {},
   "outputs": [
    {
     "name": "stdout",
     "output_type": "stream",
     "text": [
      "Сравнение результатов:\n",
      "Бейзлайн Accuracy: 0.8658, Улучшенный Accuracy: 0.8515, Custom Accuracy: 0.8013\n",
      "Бейзлайн F1-Score: 0.8623, Улучшенный F1-Score: 0.8515, Custom F1-Score: 0.8000\n"
     ]
    }
   ],
   "source": [
    "print(\"Сравнение результатов:\")\n",
    "print(f\"Бейзлайн Accuracy: {accuracy:.4f}, Улучшенный Accuracy: {accuracy_best:.4f}, Custom Accuracy: {accuracy_custom:.4f}\")\n",
    "print(f\"Бейзлайн F1-Score: {f1:.4f}, Улучшенный F1-Score: {f1_best:.4f}, Custom F1-Score: {f1_custom:.4f}\")"
   ]
  },
  {
   "cell_type": "markdown",
   "metadata": {},
   "source": [
    "### Регрессия"
   ]
  },
  {
   "cell_type": "markdown",
   "metadata": {},
   "source": [
    "Загрузим необходимые библиотеки"
   ]
  },
  {
   "cell_type": "code",
   "execution_count": 85,
   "metadata": {},
   "outputs": [],
   "source": [
    "from collections import Counter\n",
    "import numpy as np\n",
    "import pandas as pd\n",
    "from sklearn.model_selection import train_test_split, GridSearchCV\n",
    "from sklearn.preprocessing import StandardScaler, OneHotEncoder, LabelEncoder\n",
    "from sklearn.compose import ColumnTransformer\n",
    "from sklearn.pipeline import Pipeline\n",
    "from sklearn.impute import SimpleImputer\n",
    "from sklearn.linear_model import LinearRegression, Ridge, Lasso\n",
    "from sklearn.metrics import mean_absolute_error, mean_squared_error, r2_score\n",
    "from imblearn.over_sampling import SMOTE"
   ]
  },
  {
   "cell_type": "markdown",
   "metadata": {},
   "source": [
    "Подготовим данные"
   ]
  },
  {
   "cell_type": "code",
   "execution_count": 93,
   "metadata": {},
   "outputs": [
    {
     "data": {
      "text/html": [
       "<div>\n",
       "<style scoped>\n",
       "    .dataframe tbody tr th:only-of-type {\n",
       "        vertical-align: middle;\n",
       "    }\n",
       "\n",
       "    .dataframe tbody tr th {\n",
       "        vertical-align: top;\n",
       "    }\n",
       "\n",
       "    .dataframe thead th {\n",
       "        text-align: right;\n",
       "    }\n",
       "</style>\n",
       "<table border=\"1\" class=\"dataframe\">\n",
       "  <thead>\n",
       "    <tr style=\"text-align: right;\">\n",
       "      <th></th>\n",
       "      <th>Cut</th>\n",
       "      <th>Color</th>\n",
       "      <th>Clarity</th>\n",
       "      <th>Carat_Weight</th>\n",
       "      <th>Length_Width_Ratio</th>\n",
       "      <th>Depth</th>\n",
       "      <th>Table</th>\n",
       "      <th>Polish</th>\n",
       "      <th>Symmetry</th>\n",
       "      <th>Price</th>\n",
       "      <th>Type</th>\n",
       "      <th>Fluorescence</th>\n",
       "      <th>Price_mid</th>\n",
       "    </tr>\n",
       "  </thead>\n",
       "  <tbody>\n",
       "    <tr>\n",
       "      <th>0</th>\n",
       "      <td>Ideal</td>\n",
       "      <td>F</td>\n",
       "      <td>VVS2</td>\n",
       "      <td>1.84</td>\n",
       "      <td>1.02</td>\n",
       "      <td>65.8</td>\n",
       "      <td>59.0</td>\n",
       "      <td>Excellent</td>\n",
       "      <td>Very Good</td>\n",
       "      <td>2640</td>\n",
       "      <td>GIA Lab-Grown</td>\n",
       "      <td>NaN</td>\n",
       "      <td>51.380930</td>\n",
       "    </tr>\n",
       "    <tr>\n",
       "      <th>1</th>\n",
       "      <td>NaN</td>\n",
       "      <td>E</td>\n",
       "      <td>VS1</td>\n",
       "      <td>1.20</td>\n",
       "      <td>1.65</td>\n",
       "      <td>62.5</td>\n",
       "      <td>58.0</td>\n",
       "      <td>Very Good</td>\n",
       "      <td>Very Good</td>\n",
       "      <td>1070</td>\n",
       "      <td>GIA Lab-Grown</td>\n",
       "      <td>NaN</td>\n",
       "      <td>32.710854</td>\n",
       "    </tr>\n",
       "    <tr>\n",
       "      <th>2</th>\n",
       "      <td>NaN</td>\n",
       "      <td>E</td>\n",
       "      <td>VS1</td>\n",
       "      <td>1.19</td>\n",
       "      <td>1.41</td>\n",
       "      <td>63.1</td>\n",
       "      <td>63.0</td>\n",
       "      <td>Very Good</td>\n",
       "      <td>Very Good</td>\n",
       "      <td>1070</td>\n",
       "      <td>GIA Lab-Grown</td>\n",
       "      <td>NaN</td>\n",
       "      <td>32.710854</td>\n",
       "    </tr>\n",
       "    <tr>\n",
       "      <th>3</th>\n",
       "      <td>NaN</td>\n",
       "      <td>D</td>\n",
       "      <td>IF</td>\n",
       "      <td>1.00</td>\n",
       "      <td>1.18</td>\n",
       "      <td>61.7</td>\n",
       "      <td>58.0</td>\n",
       "      <td>Excellent</td>\n",
       "      <td>Excellent</td>\n",
       "      <td>7110</td>\n",
       "      <td>GIA</td>\n",
       "      <td>Faint</td>\n",
       "      <td>84.320816</td>\n",
       "    </tr>\n",
       "    <tr>\n",
       "      <th>4</th>\n",
       "      <td>NaN</td>\n",
       "      <td>H</td>\n",
       "      <td>VS1</td>\n",
       "      <td>1.01</td>\n",
       "      <td>1.35</td>\n",
       "      <td>69.4</td>\n",
       "      <td>66.0</td>\n",
       "      <td>Excellent</td>\n",
       "      <td>Very Good</td>\n",
       "      <td>3050</td>\n",
       "      <td>GIA</td>\n",
       "      <td>NaN</td>\n",
       "      <td>55.226805</td>\n",
       "    </tr>\n",
       "  </tbody>\n",
       "</table>\n",
       "</div>"
      ],
      "text/plain": [
       "     Cut Color Clarity  Carat_Weight  Length_Width_Ratio  Depth  Table  \\\n",
       "0  Ideal     F    VVS2          1.84                1.02   65.8   59.0   \n",
       "1    NaN     E     VS1          1.20                1.65   62.5   58.0   \n",
       "2    NaN     E     VS1          1.19                1.41   63.1   63.0   \n",
       "3    NaN     D      IF          1.00                1.18   61.7   58.0   \n",
       "4    NaN     H     VS1          1.01                1.35   69.4   66.0   \n",
       "\n",
       "      Polish   Symmetry  Price           Type Fluorescence  Price_mid  \n",
       "0  Excellent  Very Good   2640  GIA Lab-Grown          NaN  51.380930  \n",
       "1  Very Good  Very Good   1070  GIA Lab-Grown          NaN  32.710854  \n",
       "2  Very Good  Very Good   1070  GIA Lab-Grown          NaN  32.710854  \n",
       "3  Excellent  Excellent   7110            GIA        Faint  84.320816  \n",
       "4  Excellent  Very Good   3050            GIA          NaN  55.226805  "
      ]
     },
     "execution_count": 93,
     "metadata": {},
     "output_type": "execute_result"
    }
   ],
   "source": [
    "# Чтение данных\n",
    "data = pd.read_csv('diamonds.csv')\n",
    "\n",
    "# Переименование колонок\n",
    "data.columns = [\n",
    "    \"Shape\", \"Cut\", \"Color\", \"Clarity\",\n",
    "    \"Carat_Weight\", \"Length_Width_Ratio\", \"Depth\",\n",
    "    \"Table\", \"Polish\", \"Symmetry\", \"Girdle\",\n",
    "    \"Culet\", \"Length\", \"Width\", \"Height\",\n",
    "    \"Price\", \"Type\", \"Fluorescence\"\n",
    "]\n",
    "\n",
    "# Удаление ненужных колонок\n",
    "data = data.drop([\"Shape\", \"Girdle\", \"Culet\", \"Length\", \"Width\", \"Height\"], axis=1)\n",
    "\n",
    "data['Price_mid'] =  np.sqrt(data['Price'])\n",
    "\n",
    "data.head()"
   ]
  },
  {
   "cell_type": "markdown",
   "metadata": {},
   "source": [
    "Подготовим данные для обучения"
   ]
  },
  {
   "cell_type": "code",
   "execution_count": 94,
   "metadata": {},
   "outputs": [],
   "source": [
    "categorical_features = [\"Cut\", \"Color\", \"Clarity\", \"Polish\", \"Symmetry\", \"Fluorescence\"]\n",
    "numerical_features = [\"Carat_Weight\", \"Length_Width_Ratio\", \"Depth\", \"Table\"]\n",
    "\n",
    "# Разделение данных на признаки и целевую переменную\n",
    "X = data.drop('Price_mid', axis=1)\n",
    "y = data['Price_mid']\n",
    "\n",
    "# Определение препроцессора\n",
    "preprocessor = ColumnTransformer(\n",
    "    transformers=[\n",
    "        ('num', Pipeline([\n",
    "            ('imputer', SimpleImputer(strategy='mean')), \n",
    "            ('scaler', StandardScaler())\n",
    "        ]), numerical_features),\n",
    "        ('cat', Pipeline([\n",
    "            ('imputer', SimpleImputer(strategy='most_frequent')),\n",
    "            ('encoder', OneHotEncoder(drop='first'))\n",
    "        ]), categorical_features)\n",
    "    ]\n",
    ")\n",
    "\n",
    "# Разделение данных на обучающую и тестовую выборки\n",
    "X_train, X_test, y_train, y_test = train_test_split(X, y, test_size=0.2, random_state=42)\n",
    "\n",
    "# Преобразование данных\n",
    "X_train_preprocessed = preprocessor.fit_transform(X_train)\n",
    "X_test_preprocessed = preprocessor.transform(X_test)"
   ]
  },
  {
   "cell_type": "markdown",
   "metadata": {},
   "source": [
    "Обучение встроенной модели"
   ]
  },
  {
   "cell_type": "code",
   "execution_count": 95,
   "metadata": {},
   "outputs": [
    {
     "name": "stdout",
     "output_type": "stream",
     "text": [
      "Metrics (Linear Regression):\n",
      "MAE: 10.8264, MSE: 223.2233, R²: 0.4915\n"
     ]
    }
   ],
   "source": [
    "# Линейная регрессия\n",
    "lr_baseline = LinearRegression()\n",
    "lr_baseline.fit(X_train_preprocessed, y_train)\n",
    "\n",
    "# Предсказания\n",
    "y_pred = lr_baseline.predict(X_test_preprocessed)\n",
    "\n",
    "# Оценка модели\n",
    "def evaluate_model(y_true, y_pred):\n",
    "    mae = mean_absolute_error(y_true, y_pred)\n",
    "    mse = mean_squared_error(y_true, y_pred)\n",
    "    r2 = r2_score(y_true, y_pred)\n",
    "    return mae, mse, r2\n",
    "\n",
    "print(\"Metrics (Linear Regression):\")\n",
    "mae, mse, r2 = evaluate_model(y_test, y_pred)\n",
    "print(f\"MAE: {mae:.4f}, MSE: {mse:.4f}, R²: {r2:.4f}\")"
   ]
  },
  {
   "cell_type": "markdown",
   "metadata": {},
   "source": [
    "Подберем гиперпарамтры"
   ]
  },
  {
   "cell_type": "code",
   "execution_count": 97,
   "metadata": {},
   "outputs": [
    {
     "name": "stdout",
     "output_type": "stream",
     "text": [
      "Fitting 5 folds for each of 5 candidates, totalling 25 fits\n"
     ]
    }
   ],
   "source": [
    "param_grid = {\"alpha\": [0.01, 0.1, 1, 10, 100]}\n",
    "\n",
    "grid_ridge = GridSearchCV(Ridge(), param_grid, cv=5, scoring=\"r2\", verbose=1)\n",
    "grid_ridge.fit(X_train_preprocessed, y_train)\n",
    "\n",
    "best_alpha = grid_ridge.best_params_[\"alpha\"]"
   ]
  },
  {
   "cell_type": "markdown",
   "metadata": {},
   "source": [
    "Получаем результаты"
   ]
  },
  {
   "cell_type": "code",
   "execution_count": 98,
   "metadata": {},
   "outputs": [
    {
     "name": "stdout",
     "output_type": "stream",
     "text": [
      "Optimized Heating Load Metrics (Ridge Regression):\n",
      "MAE: 10.8245, MSE: 222.9538, R²: 0.4921\n"
     ]
    }
   ],
   "source": [
    "ridge_cooling = Ridge(alpha=best_alpha)\n",
    "ridge_cooling.fit(X_train_preprocessed, y_train)\n",
    "y_pred_ridge = ridge_cooling.predict(X_test_preprocessed)\n",
    "\n",
    "print(\"Optimized Heating Load Metrics (Ridge Regression):\")\n",
    "mae_ridge, mse_ridge, r2_ridge = evaluate_model(\n",
    "    y_test, y_pred_ridge\n",
    ")\n",
    "print(f\"MAE: {mae_ridge:.4f}, MSE: {mse_ridge:.4f}, R²: {r2_ridge:.4f}\")"
   ]
  },
  {
   "cell_type": "markdown",
   "metadata": {},
   "source": [
    "Собственный алгоритм"
   ]
  },
  {
   "cell_type": "code",
   "execution_count": 100,
   "metadata": {},
   "outputs": [
    {
     "name": "stdout",
     "output_type": "stream",
     "text": [
      "Custom Linear Regression Metrics:\n",
      "MAE: 10.9413, MSE: 230.0575, R²: 0.4759\n"
     ]
    }
   ],
   "source": [
    "class CustomLinearRegression:\n",
    "    def __init__(self, learning_rate=0.01, n_iterations=1000):\n",
    "        self.learning_rate = learning_rate\n",
    "        self.n_iterations = n_iterations\n",
    "\n",
    "    def fit(self, X, y):\n",
    "        self.m = X.shape[0]\n",
    "        self.n = X.shape[1]\n",
    "        self.weights = np.zeros(self.n)\n",
    "        self.bias = 0\n",
    "\n",
    "        for _ in range(self.n_iterations):\n",
    "            y_predicted = self._predict(X)\n",
    "            dw = -(2 / self.m) * np.dot(X.T, (y - y_predicted))\n",
    "            db = -(2 / self.m) * np.sum(y - y_predicted)\n",
    "\n",
    "            self.weights -= self.learning_rate * dw\n",
    "            self.bias -= self.learning_rate * db\n",
    "\n",
    "    def predict(self, X):\n",
    "        return self._predict(X)\n",
    "\n",
    "    def _predict(self, X):\n",
    "        return np.dot(X, self.weights) + self.bias\n",
    "\n",
    "# Обучение кастомной линейной регрессии\n",
    "custom_lr = CustomLinearRegression(learning_rate=0.01, n_iterations=1000)\n",
    "custom_lr.fit(X_train_preprocessed, y_train)\n",
    "\n",
    "# Предсказания\n",
    "y_pred_custom = custom_lr.predict(X_test_preprocessed)\n",
    "\n",
    "# Оценка модели\n",
    "def evaluate_model(y_true, y_pred):\n",
    "    mae = mean_absolute_error(y_true, y_pred)\n",
    "    mse = mean_squared_error(y_true, y_pred)\n",
    "    r2 = r2_score(y_true, y_pred)\n",
    "    return mae, mse, r2\n",
    "\n",
    "mae_custom, mse_custom, r2_custom = evaluate_model(y_test, y_pred_custom)\n",
    "\n",
    "print(\"Custom Linear Regression Metrics:\")\n",
    "print(f\"MAE: {mae_custom:.4f}, MSE: {mse_custom:.4f}, R²: {r2_custom:.4f}\")"
   ]
  },
  {
   "cell_type": "markdown",
   "metadata": {},
   "source": [
    "Сравнение результатов"
   ]
  },
  {
   "cell_type": "code",
   "execution_count": 101,
   "metadata": {},
   "outputs": [
    {
     "name": "stdout",
     "output_type": "stream",
     "text": [
      "\n",
      "Метрики:\n",
      "Бейзлайн MAE: 10.8264, Улучшенный MAE: 10.8245, Custom MAE: 10.9413\n",
      "Бейзлайн MSE: 223.2233, Улучшенный MSE: 222.9538, Custom MSE: 230.0575\n",
      "Бейзлайн R²: 0.4915, Улучшенный R²: 0.4921, Custom R²: 0.4759\n"
     ]
    }
   ],
   "source": [
    "print(\"\\nМетрики:\")\n",
    "print(f\"Бейзлайн MAE: {mae:.4f}, Улучшенный MAE: {mae_ridge:.4f}, Custom MAE: {mae_custom:.4f}\")\n",
    "print(f\"Бейзлайн MSE: {mse:.4f}, Улучшенный MSE: {mse_ridge:.4f}, Custom MSE: {mse_custom:.4f}\")\n",
    "print(f\"Бейзлайн R²: {r2:.4f}, Улучшенный R²: {r2_ridge:.4f}, Custom R²: {r2_custom:.4f}\")"
   ]
  },
  {
   "cell_type": "markdown",
   "metadata": {},
   "source": [
    "## Решающее дерево"
   ]
  },
  {
   "cell_type": "markdown",
   "metadata": {},
   "source": []
  },
  {
   "cell_type": "markdown",
   "metadata": {},
   "source": [
    "## Случайный лес"
   ]
  },
  {
   "cell_type": "markdown",
   "metadata": {},
   "source": [
    "## Градиентный бустинг"
   ]
  },
  {
   "cell_type": "markdown",
   "metadata": {},
   "source": [
    "### Классификатор"
   ]
  },
  {
   "cell_type": "markdown",
   "metadata": {},
   "source": [
    "Загрузим необходимые библиотеки"
   ]
  },
  {
   "cell_type": "code",
   "execution_count": 76,
   "metadata": {},
   "outputs": [],
   "source": [
    "from collections import Counter\n",
    "import numpy as np\n",
    "import pandas as pd\n",
    "from sklearn.model_selection import train_test_split, GridSearchCV\n",
    "from sklearn.preprocessing import StandardScaler, OneHotEncoder, LabelEncoder\n",
    "from sklearn.ensemble import GradientBoostingClassifier\n",
    "from sklearn.compose import ColumnTransformer\n",
    "from sklearn.tree import DecisionTreeClassifier\n",
    "from sklearn.pipeline import Pipeline\n",
    "from sklearn.impute import SimpleImputer\n",
    "from sklearn.metrics import accuracy_score, f1_score, classification_report\n",
    "from imblearn.over_sampling import SMOTE"
   ]
  },
  {
   "cell_type": "markdown",
   "metadata": {},
   "source": [
    "Хагружаем данные датасета"
   ]
  },
  {
   "cell_type": "code",
   "execution_count": 70,
   "metadata": {},
   "outputs": [],
   "source": [
    "# Чтение данных\n",
    "data = pd.read_csv('diamonds.csv')\n",
    "\n",
    "# Переименование колонок\n",
    "data.columns = [\n",
    "    \"Shape\", \"Cut\", \"Color\", \"Clarity\",\n",
    "    \"Carat_Weight\", \"Length_Width_Ratio\", \"Depth\",\n",
    "    \"Table\", \"Polish\", \"Symmetry\", \"Girdle\",\n",
    "    \"Culet\", \"Length\", \"Width\", \"Height\",\n",
    "    \"Price\", \"Type\", \"Fluorescence\"\n",
    "]\n",
    "\n",
    "\n",
    "# Удаление ненужных колонок\n",
    "data = data.drop([\"Shape\", \"Price\", \"Girdle\", \"Culet\", \"Length\", \"Width\", \"Height\"], axis=1)"
   ]
  },
  {
   "cell_type": "markdown",
   "metadata": {},
   "source": [
    "Подготовим данные для обучения"
   ]
  },
  {
   "cell_type": "code",
   "execution_count": 71,
   "metadata": {},
   "outputs": [
    {
     "name": "stdout",
     "output_type": "stream",
     "text": [
      "Размер обучающей выборки: (5188, 22), Размер тестовой выборки: (1297, 22)\n"
     ]
    }
   ],
   "source": [
    "# Кодирование целевой переменной\n",
    "label_encoder = LabelEncoder()\n",
    "data['Type'] = label_encoder.fit_transform(data['Type'])\n",
    "\n",
    "# Определение категориальных и числовых признаков\n",
    "categorical_features = [\"Cut\", \"Color\", \"Clarity\", \"Polish\", \"Symmetry\", \"Fluorescence\"]\n",
    "numerical_features = [\"Carat_Weight\", \"Length_Width_Ratio\", \"Depth\", \"Table\"]\n",
    "\n",
    "# Разделение данных на признаки и целевую переменную\n",
    "X = data.drop('Type', axis=1)\n",
    "y = data['Type']\n",
    "\n",
    "# Определение препроцессора\n",
    "preprocessor = ColumnTransformer(\n",
    "    transformers=[\n",
    "        ('num', Pipeline([\n",
    "            ('imputer', SimpleImputer(strategy='mean')),  # Заполнение пропусков средним для числовых данных\n",
    "            ('scaler', StandardScaler())\n",
    "        ]), numerical_features),\n",
    "        ('cat', Pipeline([\n",
    "            ('imputer', SimpleImputer(strategy='most_frequent')),  # Заполнение модой для категориальных данных\n",
    "            ('encoder', OneHotEncoder(drop='first'))  # One-hot кодирование\n",
    "        ]), categorical_features)\n",
    "    ]\n",
    ")\n",
    "\n",
    "# Преобразование данных с использованием препроцессора\n",
    "X_preprocessed = preprocessor.fit_transform(X)\n",
    "\n",
    "# Разделение данных на обучающую и тестовую выборки\n",
    "X_train, X_test, y_train, y_test = train_test_split(X_preprocessed, y, test_size=0.2, random_state=42, stratify=y)\n",
    "\n",
    "print(f\"Размер обучающей выборки: {X_train.shape}, Размер тестовой выборки: {X_test.shape}\")"
   ]
  },
  {
   "cell_type": "markdown",
   "metadata": {},
   "source": [
    "Применим встроенный алгоритм"
   ]
  },
  {
   "cell_type": "code",
   "execution_count": 72,
   "metadata": {},
   "outputs": [
    {
     "name": "stdout",
     "output_type": "stream",
     "text": [
      "Бейзлайн (Gradient Boosting):\n",
      "Accuracy: 0.9044\n",
      "F1-Score: 0.9037\n",
      "\n",
      "Classification Report:\n",
      "              precision    recall  f1-score   support\n",
      "\n",
      "           0       0.97      0.97      0.97       671\n",
      "           1       0.84      0.74      0.78       251\n",
      "           2       0.83      0.91      0.87       375\n",
      "\n",
      "    accuracy                           0.90      1297\n",
      "   macro avg       0.88      0.87      0.87      1297\n",
      "weighted avg       0.91      0.90      0.90      1297\n",
      "\n"
     ]
    }
   ],
   "source": [
    "# Обучение модели Gradient Boosting\n",
    "gb_baseline = GradientBoostingClassifier(random_state=42)\n",
    "gb_baseline.fit(X_train, y_train)\n",
    "\n",
    "# Предсказания на тестовой выборке\n",
    "y_pred_baseline = gb_baseline.predict(X_test)\n",
    "\n",
    "# Оценка модели\n",
    "accuracy_baseline = accuracy_score(y_test, y_pred_baseline)\n",
    "f1_baseline = f1_score(y_test, y_pred_baseline, average='weighted')\n",
    "\n",
    "print(\"Бейзлайн (Gradient Boosting):\")\n",
    "print(f\"Accuracy: {accuracy_baseline:.4f}\")\n",
    "print(f\"F1-Score: {f1_baseline:.4f}\")\n",
    "print(\"\\nClassification Report:\")\n",
    "print(classification_report(y_test, y_pred_baseline))"
   ]
  },
  {
   "cell_type": "markdown",
   "metadata": {},
   "source": [
    "Подберем гиперпараметры для улучшения бейзлайна"
   ]
  },
  {
   "cell_type": "code",
   "execution_count": 73,
   "metadata": {},
   "outputs": [
    {
     "name": "stdout",
     "output_type": "stream",
     "text": [
      "Fitting 5 folds for each of 162 candidates, totalling 810 fits\n",
      "Лучшие параметры: {'learning_rate': 0.1, 'max_depth': 3, 'min_samples_split': 5, 'n_estimators': 200, 'subsample': 0.8}\n"
     ]
    }
   ],
   "source": [
    "param_grid = {\n",
    "    'n_estimators': [50, 100, 200],\n",
    "    'learning_rate': [0.01, 0.1, 0.2],\n",
    "    'max_depth': [3, 5, 7],\n",
    "    'subsample': [0.8, 1.0],\n",
    "    'min_samples_split': [2, 5, 10]\n",
    "}\n",
    "\n",
    "grid_search = GridSearchCV(\n",
    "    GradientBoostingClassifier(random_state=42),\n",
    "    param_grid,\n",
    "    cv=5,\n",
    "    scoring='accuracy',\n",
    "    verbose=1,\n",
    "    n_jobs=-1\n",
    ")\n",
    "grid_search.fit(X_train, y_train)\n",
    "\n",
    "best_params = grid_search.best_params_\n",
    "print(f\"Лучшие параметры: {best_params}\")"
   ]
  },
  {
   "cell_type": "code",
   "execution_count": 74,
   "metadata": {},
   "outputs": [
    {
     "name": "stdout",
     "output_type": "stream",
     "text": [
      "Улучшенный бейзлайн (Gradient Boosting):\n",
      "Accuracy: 0.9090\n",
      "F1-Score: 0.9087\n",
      "\n",
      "Classification Report:\n",
      "              precision    recall  f1-score   support\n",
      "\n",
      "           0       0.98      0.97      0.98       671\n",
      "           1       0.84      0.75      0.80       251\n",
      "           2       0.83      0.90      0.86       375\n",
      "\n",
      "    accuracy                           0.91      1297\n",
      "   macro avg       0.88      0.88      0.88      1297\n",
      "weighted avg       0.91      0.91      0.91      1297\n",
      "\n"
     ]
    }
   ],
   "source": [
    "gb_best = grid_search.best_estimator_\n",
    "\n",
    "y_pred_best = gb_best.predict(X_test)\n",
    "\n",
    "accuracy_best = accuracy_score(y_test, y_pred_best)\n",
    "f1_best = f1_score(y_test, y_pred_best, average='weighted')\n",
    "\n",
    "print(\"Улучшенный бейзлайн (Gradient Boosting):\")\n",
    "print(f\"Accuracy: {accuracy_best:.4f}\")\n",
    "print(f\"F1-Score: {f1_best:.4f}\")\n",
    "print(\"\\nClassification Report:\")\n",
    "print(classification_report(y_test, y_pred_best))"
   ]
  },
  {
   "cell_type": "markdown",
   "metadata": {},
   "source": [
    "Собственный алгоритм"
   ]
  },
  {
   "cell_type": "code",
   "execution_count": 78,
   "metadata": {},
   "outputs": [
    {
     "name": "stdout",
     "output_type": "stream",
     "text": [
      "Реализация Custom Gradient Boosting (улучшено):\n",
      "Accuracy: 0.7579\n",
      "F1-Score: 0.7265\n"
     ]
    }
   ],
   "source": [
    "class CustomGradientBoosting:\n",
    "    def __init__(self, n_estimators=100, learning_rate=0.05, max_depth=5, min_samples_split=5, min_samples_leaf=2):\n",
    "        self.n_estimators = n_estimators\n",
    "        self.learning_rate = learning_rate\n",
    "        self.max_depth = max_depth\n",
    "        self.min_samples_split = min_samples_split\n",
    "        self.min_samples_leaf = min_samples_leaf\n",
    "        self.models = []\n",
    "\n",
    "    def fit(self, X, y):\n",
    "        self.classes = np.unique(y)\n",
    "        y_encoded = np.array([self.classes.tolist().index(label) for label in y])\n",
    "        n_classes = len(self.classes)\n",
    "        self.models = []\n",
    "        F_m = np.zeros((X.shape[0], n_classes))\n",
    "\n",
    "        for i in range(self.n_estimators):\n",
    "            gradient = np.zeros((X.shape[0], n_classes))\n",
    "            for k in range(n_classes):\n",
    "                indicator = (y_encoded == k).astype(int)\n",
    "                probabilities = self._softmax(F_m)[:, k]\n",
    "                gradient[:, k] = indicator - probabilities\n",
    "\n",
    "            tree = DecisionTreeClassifier(\n",
    "                max_depth=self.max_depth,\n",
    "                min_samples_split=self.min_samples_split,\n",
    "                min_samples_leaf=self.min_samples_leaf,\n",
    "                random_state=np.random.randint(0, 10000)\n",
    "            )\n",
    "            tree.fit(X, gradient.argmax(axis=1))\n",
    "            self.models.append(tree)\n",
    "\n",
    "            for k in range(n_classes):\n",
    "                F_m[:, k] += self.learning_rate * tree.predict_proba(X)[:, k]\n",
    "\n",
    "    def _softmax(self, F_m):\n",
    "        exp_F_m = np.exp(F_m - np.max(F_m, axis=1, keepdims=True))\n",
    "        return exp_F_m / exp_F_m.sum(axis=1, keepdims=True)\n",
    "\n",
    "    def predict(self, X):\n",
    "        F_m = np.zeros((X.shape[0], len(self.classes)))\n",
    "\n",
    "        for tree in self.models:\n",
    "            tree_probs = tree.predict_proba(X)\n",
    "            for k in range(len(self.classes)):\n",
    "                F_m[:, k] += self.learning_rate * tree_probs[:, k]\n",
    "\n",
    "        y_pred_indices = np.argmax(F_m, axis=1)\n",
    "        return np.array([self.classes[i] for i in y_pred_indices])\n",
    "\n",
    "# Подбор гиперпараметров\n",
    "custom_gb = CustomGradientBoosting(\n",
    "    n_estimators=200,  # Увеличенное количество деревьев\n",
    "    learning_rate=0.05,  # Более низкий learning rate\n",
    "    max_depth=4,  # Оптимальная глубина дерева\n",
    "    min_samples_split=10,\n",
    "    min_samples_leaf=5\n",
    ")\n",
    "\n",
    "custom_gb.fit(X_train, y_train)\n",
    "\n",
    "y_pred_custom_gb = custom_gb.predict(X_test)\n",
    "\n",
    "accuracy_custom_gb = accuracy_score(y_test, y_pred_custom_gb)\n",
    "f1_custom_gb = f1_score(y_test, y_pred_custom_gb, average='weighted')\n",
    "\n",
    "print(\"Реализация Custom Gradient Boosting (улучшено):\")\n",
    "print(f\"Accuracy: {accuracy_custom_gb:.4f}\")\n",
    "print(f\"F1-Score: {f1_custom_gb:.4f}\")\n"
   ]
  },
  {
   "cell_type": "markdown",
   "metadata": {},
   "source": [
    "### Регрессия"
   ]
  }
 ],
 "metadata": {
  "kernelspec": {
   "display_name": ".venv",
   "language": "python",
   "name": "python3"
  },
  "language_info": {
   "codemirror_mode": {
    "name": "ipython",
    "version": 3
   },
   "file_extension": ".py",
   "mimetype": "text/x-python",
   "name": "python",
   "nbconvert_exporter": "python",
   "pygments_lexer": "ipython3",
   "version": "3.13.1"
  }
 },
 "nbformat": 4,
 "nbformat_minor": 2
}
